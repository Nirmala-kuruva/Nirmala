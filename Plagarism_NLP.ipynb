{
 "cells": [
  {
   "cell_type": "code",
   "execution_count": 1,
   "id": "0bdf7c88",
   "metadata": {},
   "outputs": [
    {
     "name": "stderr",
     "output_type": "stream",
     "text": [
      "[nltk_data] Downloading package stopwords to\n",
      "[nltk_data]     C:\\Users\\user\\AppData\\Roaming\\nltk_data...\n",
      "[nltk_data]   Package stopwords is already up-to-date!\n"
     ]
    },
    {
     "name": "stdout",
     "output_type": "stream",
     "text": [
      "Similarity Score: 0.2109964527251086\n",
      "No Plagiarism Detected.\n"
     ]
    },
    {
     "data": {
      "application/vnd.jupyter.widget-view+json": {
       "model_id": "2f16525cdeed48c6aaa3f5585a66bdd8",
       "version_major": 2,
       "version_minor": 0
      },
      "text/plain": [
       "tokenizer_config.json:   0%|          | 0.00/48.0 [00:00<?, ?B/s]"
      ]
     },
     "metadata": {},
     "output_type": "display_data"
    },
    {
     "name": "stderr",
     "output_type": "stream",
     "text": [
      "C:\\Users\\user\\anaconda3\\Lib\\site-packages\\huggingface_hub\\file_download.py:140: UserWarning: `huggingface_hub` cache-system uses symlinks by default to efficiently store duplicated files but your machine does not support them in C:\\Users\\user\\.cache\\huggingface\\hub\\models--bert-base-uncased. Caching files will still work but in a degraded version that might require more space on your disk. This warning can be disabled by setting the `HF_HUB_DISABLE_SYMLINKS_WARNING` environment variable. For more details, see https://huggingface.co/docs/huggingface_hub/how-to-cache#limitations.\n",
      "To support symlinks on Windows, you either need to activate Developer Mode or to run Python as an administrator. In order to activate developer mode, see this article: https://docs.microsoft.com/en-us/windows/apps/get-started/enable-your-device-for-development\n",
      "  warnings.warn(message)\n"
     ]
    },
    {
     "data": {
      "application/vnd.jupyter.widget-view+json": {
       "model_id": "93ca40f277aa48398e1ebcdbe3573611",
       "version_major": 2,
       "version_minor": 0
      },
      "text/plain": [
       "vocab.txt:   0%|          | 0.00/232k [00:00<?, ?B/s]"
      ]
     },
     "metadata": {},
     "output_type": "display_data"
    },
    {
     "data": {
      "application/vnd.jupyter.widget-view+json": {
       "model_id": "67e468f595c54770941122013d3214b9",
       "version_major": 2,
       "version_minor": 0
      },
      "text/plain": [
       "tokenizer.json:   0%|          | 0.00/466k [00:00<?, ?B/s]"
      ]
     },
     "metadata": {},
     "output_type": "display_data"
    },
    {
     "data": {
      "application/vnd.jupyter.widget-view+json": {
       "model_id": "2c6a89dd85e54e24b91baa9d6c22d339",
       "version_major": 2,
       "version_minor": 0
      },
      "text/plain": [
       "config.json:   0%|          | 0.00/570 [00:00<?, ?B/s]"
      ]
     },
     "metadata": {},
     "output_type": "display_data"
    },
    {
     "data": {
      "application/vnd.jupyter.widget-view+json": {
       "model_id": "cf68ddcce88a4afb876c3e338a8f214e",
       "version_major": 2,
       "version_minor": 0
      },
      "text/plain": [
       "model.safetensors:   0%|          | 0.00/440M [00:00<?, ?B/s]"
      ]
     },
     "metadata": {},
     "output_type": "display_data"
    },
    {
     "name": "stdout",
     "output_type": "stream",
     "text": [
      "Similarity Score: 0.9445720314979553\n",
      "Plagiarism Detected!\n"
     ]
    }
   ],
   "source": [
    "import re\n",
    "import string\n",
    "from sklearn.feature_extraction.text import TfidfVectorizer\n",
    "from sklearn.metrics.pairwise import cosine_similarity\n",
    "import spacy\n",
    "import nltk\n",
    "from nltk.corpus import stopwords\n",
    "from transformers import BertTokenizer, BertModel\n",
    "import torch\n",
    "\n",
    "# Download NLTK stopwords\n",
    "nltk.download('stopwords')\n",
    "\n",
    "# Load spaCy model for text processing\n",
    "nlp = spacy.load(\"en_core_web_sm\")\n",
    "\n",
    "# Function to preprocess the text\n",
    "def preprocess_text(text):\n",
    "    # Convert text to lowercase\n",
    "    text = text.lower()\n",
    "    \n",
    "    # Remove punctuation\n",
    "    text = text.translate(str.maketrans('', '', string.punctuation))\n",
    "    \n",
    "    # Remove stopwords\n",
    "    stop_words = set(stopwords.words('english'))\n",
    "    text = ' '.join([word for word in text.split() if word not in stop_words])\n",
    "    \n",
    "    return text\n",
    "\n",
    "# Function to calculate cosine similarity between two texts using TF-IDF\n",
    "def calculate_cosine_similarity(text1, text2):\n",
    "    # Preprocess the texts\n",
    "    text1 = preprocess_text(text1)\n",
    "    text2 = preprocess_text(text2)\n",
    "\n",
    "    # Vectorize the texts using TF-IDF\n",
    "    vectorizer = TfidfVectorizer()\n",
    "    tfidf_matrix = vectorizer.fit_transform([text1, text2])\n",
    "\n",
    "    # Compute cosine similarity\n",
    "    similarity_matrix = cosine_similarity(tfidf_matrix[0:1], tfidf_matrix[1:2])\n",
    "    \n",
    "    # Return the similarity score (between 0 and 1)\n",
    "    return similarity_matrix[0][0]\n",
    "\n",
    "# Function to calculate similarity using BERT embeddings\n",
    "def calculate_bert_similarity(text1, text2):\n",
    "    # Load pre-trained BERT model and tokenizer\n",
    "    tokenizer = BertTokenizer.from_pretrained('bert-base-uncased')\n",
    "    model = BertModel.from_pretrained('bert-base-uncased')\n",
    "\n",
    "    # Preprocess the texts and tokenize\n",
    "    inputs1 = tokenizer(text1, return_tensors='pt', truncation=True, padding=True, max_length=512)\n",
    "    inputs2 = tokenizer(text2, return_tensors='pt', truncation=True, padding=True, max_length=512)\n",
    "\n",
    "    # Get BERT embeddings (last hidden state of [CLS] token)\n",
    "    with torch.no_grad():\n",
    "        output1 = model(**inputs1)\n",
    "        output2 = model(**inputs2)\n",
    "    \n",
    "    # Compute cosine similarity between BERT embeddings of the texts\n",
    "    emb1 = output1.last_hidden_state.mean(dim=1)  # Pooling (averaging) the embeddings\n",
    "    emb2 = output2.last_hidden_state.mean(dim=1)\n",
    "    cos_sim = torch.nn.functional.cosine_similarity(emb1, emb2)\n",
    "    \n",
    "    return cos_sim.item()\n",
    "\n",
    "# Main function to check plagiarism\n",
    "def check_plagiarism(doc1, doc2, use_bert=False, threshold=0.8):\n",
    "    if use_bert:\n",
    "        # Use BERT for similarity calculation\n",
    "        similarity_score = calculate_bert_similarity(doc1, doc2)\n",
    "    else:\n",
    "        # Use TF-IDF and cosine similarity\n",
    "        similarity_score = calculate_cosine_similarity(doc1, doc2)\n",
    "    \n",
    "    print(f\"Similarity Score: {similarity_score}\")\n",
    "    \n",
    "    # Compare with threshold to decide if plagiarized\n",
    "    if similarity_score >= threshold:\n",
    "        print(\"Plagiarism Detected!\")\n",
    "    else:\n",
    "        print(\"No Plagiarism Detected.\")\n",
    "\n",
    "# Example documents\n",
    "doc1 = \"\"\"Artificial intelligence (AI) refers to the simulation of human intelligence\n",
    "           in machines. These systems are designed to perform tasks such as visual\n",
    "           perception, speech recognition, decision-making, and language translation.\"\"\"\n",
    "doc2 = \"\"\"AI is a field of computer science that aims to create machines capable of\n",
    "          performing tasks that typically require human intelligence, such as recognizing \n",
    "          speech, making decisions, or translating languages.\"\"\"\n",
    "\n",
    "# Run plagiarism check using Cosine Similarity (TF-IDF)\n",
    "check_plagiarism(doc1, doc2, use_bert=False, threshold=0.8)\n",
    "\n",
    "# Run plagiarism check using BERT embeddings\n",
    "check_plagiarism(doc1, doc2, use_bert=True, threshold=0.8)"
   ]
  }
 ],
 "metadata": {
  "kernelspec": {
   "display_name": "Python 3 (ipykernel)",
   "language": "python",
   "name": "python3"
  },
  "language_info": {
   "codemirror_mode": {
    "name": "ipython",
    "version": 3
   },
   "file_extension": ".py",
   "mimetype": "text/x-python",
   "name": "python",
   "nbconvert_exporter": "python",
   "pygments_lexer": "ipython3",
   "version": "3.11.4"
  }
 },
 "nbformat": 4,
 "nbformat_minor": 5
}
